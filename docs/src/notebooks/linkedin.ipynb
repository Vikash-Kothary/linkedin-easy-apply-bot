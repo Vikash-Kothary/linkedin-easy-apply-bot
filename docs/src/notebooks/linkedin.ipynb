{
 "cells": [
  {
   "cell_type": "code",
   "execution_count": null,
   "metadata": {},
   "outputs": [],
   "source": [
    "cd ../../.."
   ]
  },
  {
   "cell_type": "code",
   "execution_count": null,
   "metadata": {},
   "outputs": [],
   "source": [
    "%load_ext dotenv\n",
    "%dotenv -o config/secrets/.env.linkedin.local"
   ]
  },
  {
   "cell_type": "code",
   "execution_count": null,
   "metadata": {},
   "outputs": [],
   "source": [
    "from linkedin_easy_apply_bot.backend import config\n",
    "from linkedin_easy_apply_bot.backend.main import EasyApplyBot"
   ]
  },
  {
   "cell_type": "code",
   "execution_count": null,
   "metadata": {},
   "outputs": [],
   "source": [
    "\n",
    "assert config.LINKEDIN_USERNAME is not None\n",
    "assert config.LINKEDIN_PASSWORD is not None"
   ]
  },
  {
   "cell_type": "code",
   "execution_count": null,
   "metadata": {},
   "outputs": [],
   "source": [
    "from linkedin_easy_apply_bot.backend.utils import yaml_utils\n",
    "parameters = yaml_utils.read_file('src/config.yaml')\n",
    "parameters"
   ]
  },
  {
   "cell_type": "code",
   "execution_count": null,
   "metadata": {},
   "outputs": [],
   "source": [
    "import time\n",
    "import random\n",
    "from linkedin_easy_apply_bot.backend.utils import logging_utils\n",
    "\n",
    "\n",
    "log = logging_utils.get_logger(__name__)\n",
    "\n",
    "def start_apply(positions, locations) -> None:\n",
    "        start: float = time.time()\n",
    "        combos: list = []\n",
    "        while len(combos) < len(positions) * len(locations):\n",
    "            position = positions[random.randint(0, len(positions) - 1)]\n",
    "            location = locations[random.randint(0, len(locations) - 1)]\n",
    "            combo: tuple = (position, location)\n",
    "            if combo not in combos:\n",
    "                combos.append(combo)\n",
    "                log.info(f\"Applying to {position}: {location}\")\n",
    "                location = \"&location=\" + location\n",
    "                yield (position, location)\n",
    "            if len(combos) > 500:\n",
    "                break"
   ]
  },
  {
   "cell_type": "code",
   "execution_count": null,
   "metadata": {},
   "outputs": [],
   "source": [
    "position_location_pairs = list(start_apply(parameters[\"positions\"], parameters[\"locations\"]))\n",
    "position_location_pairs"
   ]
  },
  {
   "cell_type": "code",
   "execution_count": null,
   "metadata": {},
   "outputs": [],
   "source": [
    "def applications_loop(bot, position, location):\n",
    "\n",
    "        count_application = 0\n",
    "        count_job = 0\n",
    "        jobs_per_page = 0\n",
    "        start_time: float = time.time()\n",
    "\n",
    "        log.info(\"Looking for jobs.. Please wait..\")\n",
    "        bot.browser.set_window_position(1, 1)\n",
    "        bot.browser.maximize_window()\n",
    "        bot.browser, _ = bot.next_jobs_page(\n",
    "            position, location, jobs_per_page, experience_level=bot.experience_level\n",
    "        )\n",
    "        log.info(\"Looking for jobs.. Please wait..\")\n",
    "\n",
    "        while time.time() - start_time < bot.MAX_SEARCH_TIME:\n",
    "            try:\n",
    "                log.info(\n",
    "                    f\"{(bot.MAX_SEARCH_TIME - (time.time() - start_time)) // 60} minutes left in this search\"\n",
    "                )\n",
    "\n",
    "                # sleep to make sure everything loads, add random to make us look human.\n",
    "                randoTime: float = random.uniform(1.5, 2.9)\n",
    "                log.debug(f\"Sleeping for {round(randoTime, 1)}\")\n",
    "                # time.sleep(randoTime)\n",
    "                bot.load_page(sleep=0.5)\n",
    "\n",
    "                # LinkedIn displays the search results in a scrollable <div> on the left side, we have to scroll to its bottom\n",
    "\n",
    "                # scroll to bottom\n",
    "\n",
    "                if bot.is_present(bot.locator[\"search\"]):\n",
    "                    scrollresults = bot.get_elements(\"search\")\n",
    "                    #     bot.browser.find_element(By.CLASS_NAME,\n",
    "                    #     \"jobs-search-results-list\"\n",
    "                    # )\n",
    "                    # Selenium only detects visible elements; if we scroll to the bottom too fast, only 8-9 results will be loaded into IDs list\n",
    "                    for i in range(300, 3000, 100):\n",
    "                        bot.browser.execute_script(\n",
    "                            \"arguments[0].scrollTo(0, {})\".format(i), scrollresults[0]\n",
    "                        )\n",
    "                    scrollresults = bot.get_elements(\"search\")\n",
    "                    # time.sleep(1)\n",
    "\n",
    "                # get job links, (the following are actually the job card objects)\n",
    "                if bot.is_present(bot.locator[\"links\"]):\n",
    "                    links = bot.get_elements(\"links\")\n",
    "                    # links = bot.browser.find_elements(\"xpath\",\n",
    "                    #     '//div[@data-job-id]'\n",
    "                    # )\n",
    "\n",
    "                    jobIDs = {}  # {Job id: processed_status}\n",
    "\n",
    "                    # children selector is the container of the job cards on the left\n",
    "                    for link in links:\n",
    "                        if \"Applied\" not in link.text:  # checking if applied already\n",
    "                            if (\n",
    "                                link.text not in bot.blacklist\n",
    "                            ):  # checking if blacklisted\n",
    "                                jobID = link.get_attribute(\"data-job-id\")\n",
    "                                if jobID == \"search\":\n",
    "                                    log.debug(\n",
    "                                        \"Job ID not found, search keyword found instead? {}\".format(\n",
    "                                            link.text\n",
    "                                        )\n",
    "                                    )\n",
    "                                    continue\n",
    "                                else:\n",
    "                                    jobIDs[jobID] = \"To be processed\"\n",
    "                    # if len(jobIDs) > 0:\n",
    "                    #     bot.apply_loop(jobIDs)\n",
    "                    bot.browser, jobs_per_page = bot.next_jobs_page(\n",
    "                        position,\n",
    "                        location,\n",
    "                        jobs_per_page,\n",
    "                        experience_level=bot.experience_level,\n",
    "                    )\n",
    "                else:\n",
    "                    bot.browser, jobs_per_page = bot.next_jobs_page(\n",
    "                        position,\n",
    "                        location,\n",
    "                        jobs_per_page,\n",
    "                        experience_level=bot.experience_level,\n",
    "                    )\n",
    "\n",
    "            except Exception as e:\n",
    "                print(e)\n"
   ]
  },
  {
   "cell_type": "code",
   "execution_count": null,
   "metadata": {},
   "outputs": [],
   "source": [
    "bot = EasyApplyBot(\n",
    "    username=config.LINKEDIN_USERNAME,\n",
    "    password=config.LINKEDIN_PASSWORD\n",
    ")\n",
    "\n",
    "\n",
    "for position,location in position_location_pairs:\n",
    "    applications_loop(bot, position, location)\n"
   ]
  },
  {
   "cell_type": "code",
   "execution_count": null,
   "metadata": {},
   "outputs": [],
   "source": []
  }
 ],
 "metadata": {
  "kernelspec": {
   "display_name": ".venv",
   "language": "python",
   "name": "python3"
  },
  "language_info": {
   "codemirror_mode": {
    "name": "ipython",
    "version": 3
   },
   "file_extension": ".py",
   "mimetype": "text/x-python",
   "name": "python",
   "nbconvert_exporter": "python",
   "pygments_lexer": "ipython3",
   "version": "3.11.10"
  }
 },
 "nbformat": 4,
 "nbformat_minor": 2
}
